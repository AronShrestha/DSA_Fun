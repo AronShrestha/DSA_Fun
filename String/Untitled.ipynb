{
 "cells": [
  {
   "cell_type": "code",
   "execution_count": null,
   "id": "40d037c7",
   "metadata": {},
   "outputs": [],
   "source": [
    "\n",
    "    "
   ]
  },
  {
   "cell_type": "code",
   "execution_count": null,
   "id": "1582b48b",
   "metadata": {},
   "outputs": [],
   "source": [
    "s=\"asdfafaasd\""
   ]
  },
  {
   "cell_type": "code",
   "execution_count": null,
   "id": "1ef4521f",
   "metadata": {},
   "outputs": [],
   "source": []
  }
 ],
 "metadata": {
  "kernelspec": {
   "display_name": "Python 3 (ipykernel)",
   "language": "python",
   "name": "python3"
  }
 },
 "nbformat": 4,
 "nbformat_minor": 5
}
