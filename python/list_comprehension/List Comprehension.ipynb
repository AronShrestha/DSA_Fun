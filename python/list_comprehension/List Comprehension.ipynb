{
 "cells": [
  {
   "cell_type": "code",
   "execution_count": 2,
   "id": "67a9d5ae",
   "metadata": {},
   "outputs": [
    {
     "data": {
      "text/plain": [
       "[0, 1, 2, 3, 4, 5, 6, 7, 8, 9]"
      ]
     },
     "execution_count": 2,
     "metadata": {},
     "output_type": "execute_result"
    }
   ],
   "source": [
    "new_list = [i for i in range(10)]\n",
    "new_list"
   ]
  },
  {
   "cell_type": "code",
   "execution_count": 4,
   "id": "78d74753",
   "metadata": {},
   "outputs": [
    {
     "data": {
      "text/plain": [
       "[1, 2, 3, 4, 5, 6, 7, 8, 9, 10]"
      ]
     },
     "execution_count": 4,
     "metadata": {},
     "output_type": "execute_result"
    }
   ],
   "source": [
    "x=[j+1 for j in new_list]\n",
    "x"
   ]
  },
  {
   "cell_type": "code",
   "execution_count": 6,
   "id": "3afefcce",
   "metadata": {},
   "outputs": [
    {
     "data": {
      "text/plain": [
       "[2, 4, 6, 8, 10]"
      ]
     },
     "execution_count": 6,
     "metadata": {},
     "output_type": "execute_result"
    }
   ],
   "source": [
    "even = [e for e in x if e%2==0]\n",
    "even"
   ]
  },
  {
   "cell_type": "code",
   "execution_count": 8,
   "id": "d90146cc",
   "metadata": {},
   "outputs": [
    {
     "data": {
      "text/plain": [
       "[1, 3, 5, 7, 9]"
      ]
     },
     "execution_count": 8,
     "metadata": {},
     "output_type": "execute_result"
    }
   ],
   "source": [
    "odd = [o for o in x if o%2!=0]\n",
    "odd"
   ]
  },
  {
   "cell_type": "code",
   "execution_count": 10,
   "id": "e3b12ffd",
   "metadata": {},
   "outputs": [
    {
     "data": {
      "text/plain": [
       "True"
      ]
     },
     "execution_count": 10,
     "metadata": {},
     "output_type": "execute_result"
    }
   ],
   "source": [
    "0%2 ==0\n"
   ]
  },
  {
   "cell_type": "code",
   "execution_count": 23,
   "id": "6184c8e4",
   "metadata": {},
   "outputs": [
    {
     "data": {
      "text/plain": [
       "['M', 'Y', ' ', 'N', 'A', 'M', 'E', ' ', 'I', 'S', ' ', 'A', 'R', 'O', 'N']"
      ]
     },
     "execution_count": 23,
     "metadata": {},
     "output_type": "execute_result"
    }
   ],
   "source": [
    "name = \"my name is aron\"\n",
    "uppercase = [up.upper() for up in name]\n",
    "uppercase"
   ]
  },
  {
   "cell_type": "code",
   "execution_count": null,
   "id": "b2f3b701",
   "metadata": {},
   "outputs": [],
   "source": [
    "name = \"my name is aron\"\n",
    "uppercase = [up.upper() for up in list(name.split())]\n",
    "uppercase"
   ]
  },
  {
   "cell_type": "code",
   "execution_count": 16,
   "id": "6eec73c1",
   "metadata": {},
   "outputs": [
    {
     "data": {
      "text/plain": [
       "'my name is aron'"
      ]
     },
     "execution_count": 16,
     "metadata": {},
     "output_type": "execute_result"
    }
   ],
   "source": [
    "name"
   ]
  },
  {
   "cell_type": "code",
   "execution_count": 20,
   "id": "b86bf314",
   "metadata": {},
   "outputs": [
    {
     "data": {
      "text/plain": [
       "['my', 'name', 'is', 'aron']"
      ]
     },
     "execution_count": 20,
     "metadata": {},
     "output_type": "execute_result"
    }
   ],
   "source": [
    "a = list(name.split(' '))\n",
    "a"
   ]
  },
  {
   "cell_type": "code",
   "execution_count": 21,
   "id": "4e244b73",
   "metadata": {},
   "outputs": [
    {
     "data": {
      "text/plain": [
       "['my', 'name', 'is', 'aron']"
      ]
     },
     "execution_count": 21,
     "metadata": {},
     "output_type": "execute_result"
    }
   ],
   "source": [
    "name.split(' ')"
   ]
  },
  {
   "cell_type": "code",
   "execution_count": 24,
   "id": "f9cf7653",
   "metadata": {},
   "outputs": [],
   "source": [
    "timesfive = lambda x : x*5"
   ]
  },
  {
   "cell_type": "code",
   "execution_count": 26,
   "id": "200bbc43",
   "metadata": {},
   "outputs": [
    {
     "data": {
      "text/plain": [
       "25"
      ]
     },
     "execution_count": 26,
     "metadata": {},
     "output_type": "execute_result"
    }
   ],
   "source": [
    "timesfive(5)"
   ]
  },
  {
   "cell_type": "code",
   "execution_count": 34,
   "id": "25d19961",
   "metadata": {},
   "outputs": [
    {
     "data": {
      "text/plain": [
       "[10, 15, 20, 25, 30, 35, 40, 45]"
      ]
     },
     "execution_count": 34,
     "metadata": {},
     "output_type": "execute_result"
    }
   ],
   "source": [
    "ans = [timesfive(x) for x in new_list if x>1]\n",
    "ans"
   ]
  },
  {
   "cell_type": "code",
   "execution_count": 35,
   "id": "111f4453",
   "metadata": {},
   "outputs": [],
   "source": [
    "dic = [{\"name\":\"aron\",\"city\":\"Kathmand\"},{\"name\":\"ishar\",\"city\":\"Kathmand\"}]"
   ]
  },
  {
   "cell_type": "code",
   "execution_count": 40,
   "id": "66a2bfcd",
   "metadata": {},
   "outputs": [
    {
     "data": {
      "text/plain": [
       "['name aron city Kathmand', 'name ishar city Kathmand']"
      ]
     },
     "execution_count": 40,
     "metadata": {},
     "output_type": "execute_result"
    }
   ],
   "source": [
    "new = [\"name \"+i['name']+ \" city \"+i['city'] for i in dic]\n",
    "new"
   ]
  },
  {
   "cell_type": "code",
   "execution_count": 42,
   "id": "97f91c4e",
   "metadata": {},
   "outputs": [
    {
     "data": {
      "text/plain": [
       "[0, 1, 10, 3, 4, 5, 6, 7, 8, 9]"
      ]
     },
     "execution_count": 42,
     "metadata": {},
     "output_type": "execute_result"
    }
   ],
   "source": [
    "[i*5 if i==2 else i for i in new_list]"
   ]
  },
  {
   "cell_type": "code",
   "execution_count": 45,
   "id": "6fee889e",
   "metadata": {},
   "outputs": [
    {
     "data": {
      "text/plain": [
       "[10]"
      ]
     },
     "execution_count": 45,
     "metadata": {},
     "output_type": "execute_result"
    }
   ],
   "source": [
    "[i*5  for i in new_list if i==2]"
   ]
  },
  {
   "cell_type": "code",
   "execution_count": 46,
   "id": "6c73dc54",
   "metadata": {},
   "outputs": [
    {
     "data": {
      "text/plain": [
       "[10]"
      ]
     },
     "execution_count": 46,
     "metadata": {},
     "output_type": "execute_result"
    }
   ],
   "source": [
    "[i*5 if i==2 else i for i in new_list if i==2]"
   ]
  },
  {
   "cell_type": "code",
   "execution_count": 48,
   "id": "663f9461",
   "metadata": {},
   "outputs": [
    {
     "data": {
      "text/plain": [
       "[0, 5, 10, 15, 20, 25, 30, 35, 40, 45]"
      ]
     },
     "execution_count": 48,
     "metadata": {},
     "output_type": "execute_result"
    }
   ],
   "source": [
    "list(map(lambda i:i*5 ,new_list))"
   ]
  },
  {
   "cell_type": "code",
   "execution_count": 49,
   "id": "f961d228",
   "metadata": {},
   "outputs": [
    {
     "data": {
      "text/plain": [
       "[0, 1, 2, 15, 4, 5, 6, 7, 8, 9]"
      ]
     },
     "execution_count": 49,
     "metadata": {},
     "output_type": "execute_result"
    }
   ],
   "source": [
    "list(map(lambda i:i*5  if i ==3 else i,new_list))"
   ]
  },
  {
   "cell_type": "code",
   "execution_count": 50,
   "id": "9a9df3cb",
   "metadata": {},
   "outputs": [
    {
     "data": {
      "text/plain": [
       "[15, 4, 5, 6, 7, 8, 9]"
      ]
     },
     "execution_count": 50,
     "metadata": {},
     "output_type": "execute_result"
    }
   ],
   "source": [
    "list(map(lambda i:i*5  if i ==3 else i,filter(lambda i:i>2,new_list)))"
   ]
  },
  {
   "cell_type": "code",
   "execution_count": 52,
   "id": "1e6949ad",
   "metadata": {},
   "outputs": [
    {
     "data": {
      "text/plain": [
       "[[0, 0, 0, 0, 0], [0, 0, 0, 0, 0], [0, 0, 0, 0, 0]]"
      ]
     },
     "execution_count": 52,
     "metadata": {},
     "output_type": "execute_result"
    }
   ],
   "source": [
    "twoD = [[0 for i in range(5)] for i in range(3)]\n",
    "twoD"
   ]
  },
  {
   "cell_type": "code",
   "execution_count": 64,
   "id": "5a89f027",
   "metadata": {},
   "outputs": [
    {
     "data": {
      "text/plain": [
       "[[[0, 1, 2], [0, 1, 2], [0, 1, 2], [0, 1, 2], [0, 1, 2]],\n",
       " [[0, 1, 2], [0, 1, 2], [0, 1, 2], [0, 1, 2], [0, 1, 2]],\n",
       " [[0, 1, 2], [0, 1, 2], [0, 1, 2], [0, 1, 2], [0, 1, 2]]]"
      ]
     },
     "execution_count": 64,
     "metadata": {},
     "output_type": "execute_result"
    }
   ],
   "source": [
    "threeD = [[[0,1,2] for i in range(5)] for i in range(3)]\n",
    "threeD"
   ]
  },
  {
   "cell_type": "markdown",
   "id": "04ebd246",
   "metadata": {},
   "source": [
    "### Deep copy ,copy and  =\n",
    "\n"
   ]
  },
  {
   "cell_type": "code",
   "execution_count": 65,
   "id": "c9863710",
   "metadata": {},
   "outputs": [],
   "source": [
    "lst1 = [1,2,3,4]\n",
    "l2 = lst1"
   ]
  },
  {
   "cell_type": "code",
   "execution_count": 66,
   "id": "dc161a70",
   "metadata": {},
   "outputs": [
    {
     "data": {
      "text/plain": [
       "[1, 2, 3, 4]"
      ]
     },
     "execution_count": 66,
     "metadata": {},
     "output_type": "execute_result"
    }
   ],
   "source": [
    "l2"
   ]
  },
  {
   "cell_type": "code",
   "execution_count": 67,
   "id": "0649615f",
   "metadata": {},
   "outputs": [],
   "source": [
    "l2[2]=10"
   ]
  },
  {
   "cell_type": "code",
   "execution_count": 68,
   "id": "3c671a39",
   "metadata": {},
   "outputs": [
    {
     "data": {
      "text/plain": [
       "([1, 2, 10, 4], [1, 2, 10, 4])"
      ]
     },
     "execution_count": 68,
     "metadata": {},
     "output_type": "execute_result"
    }
   ],
   "source": [
    "l2,lst1"
   ]
  },
  {
   "cell_type": "code",
   "execution_count": 69,
   "id": "11f13604",
   "metadata": {},
   "outputs": [],
   "source": [
    "a =[1,2,3,4,5,6,7]\n"
   ]
  },
  {
   "cell_type": "code",
   "execution_count": 73,
   "id": "214f2d20",
   "metadata": {},
   "outputs": [
    {
     "data": {
      "text/plain": [
       "[1, 2, 3, 4, 5, 6, 7]"
      ]
     },
     "execution_count": 73,
     "metadata": {},
     "output_type": "execute_result"
    }
   ],
   "source": [
    "#this the example of shallow copy \n",
    "b = a.copy()\n",
    "b"
   ]
  },
  {
   "cell_type": "code",
   "execution_count": 74,
   "id": "0d52fd0d",
   "metadata": {},
   "outputs": [],
   "source": [
    "b[1]=5"
   ]
  },
  {
   "cell_type": "code",
   "execution_count": 75,
   "id": "44342c8e",
   "metadata": {},
   "outputs": [
    {
     "data": {
      "text/plain": [
       "[1, 5, 3, 4, 5, 6, 7]"
      ]
     },
     "execution_count": 75,
     "metadata": {},
     "output_type": "execute_result"
    }
   ],
   "source": [
    "b"
   ]
  },
  {
   "cell_type": "code",
   "execution_count": 76,
   "id": "c09d4b8d",
   "metadata": {},
   "outputs": [
    {
     "data": {
      "text/plain": [
       "[1, 2, 3, 4, 5, 6, 7]"
      ]
     },
     "execution_count": 76,
     "metadata": {},
     "output_type": "execute_result"
    }
   ],
   "source": [
    "a"
   ]
  },
  {
   "cell_type": "code",
   "execution_count": 79,
   "id": "b3e3d3f2",
   "metadata": {},
   "outputs": [
    {
     "data": {
      "text/plain": [
       "[[1, 2, 3], 1, 2, [4, 5, 6]]"
      ]
     },
     "execution_count": 79,
     "metadata": {},
     "output_type": "execute_result"
    }
   ],
   "source": [
    "c = [[1,2,3],1,2,[4,5,6]]\n",
    "c"
   ]
  },
  {
   "cell_type": "code",
   "execution_count": 80,
   "id": "2c8fbdcf",
   "metadata": {},
   "outputs": [],
   "source": [
    "d = c.copy()"
   ]
  },
  {
   "cell_type": "code",
   "execution_count": 81,
   "id": "38282590",
   "metadata": {},
   "outputs": [
    {
     "data": {
      "text/plain": [
       "[[1, 2, 3], 1, 2, [4, 5, 6]]"
      ]
     },
     "execution_count": 81,
     "metadata": {},
     "output_type": "execute_result"
    }
   ],
   "source": [
    "d"
   ]
  },
  {
   "cell_type": "code",
   "execution_count": 82,
   "id": "d9fca36f",
   "metadata": {},
   "outputs": [],
   "source": [
    "d[1]=5"
   ]
  },
  {
   "cell_type": "code",
   "execution_count": 83,
   "id": "1353a3d2",
   "metadata": {},
   "outputs": [
    {
     "data": {
      "text/plain": [
       "([[1, 2, 3], 1, 2, [4, 5, 6]], [[1, 2, 3], 5, 2, [4, 5, 6]])"
      ]
     },
     "execution_count": 83,
     "metadata": {},
     "output_type": "execute_result"
    }
   ],
   "source": [
    "c,d"
   ]
  },
  {
   "cell_type": "code",
   "execution_count": 84,
   "id": "356b40a9",
   "metadata": {},
   "outputs": [],
   "source": [
    "d[0]=[0,0,0]"
   ]
  },
  {
   "cell_type": "code",
   "execution_count": 85,
   "id": "60a91440",
   "metadata": {},
   "outputs": [
    {
     "data": {
      "text/plain": [
       "([[1, 2, 3], 1, 2, [4, 5, 6]], [[0, 0, 0], 5, 2, [4, 5, 6]])"
      ]
     },
     "execution_count": 85,
     "metadata": {},
     "output_type": "execute_result"
    }
   ],
   "source": [
    "c,d"
   ]
  },
  {
   "cell_type": "code",
   "execution_count": 86,
   "id": "510b038e",
   "metadata": {},
   "outputs": [],
   "source": [
    "d[0][1]= 99"
   ]
  },
  {
   "cell_type": "code",
   "execution_count": 87,
   "id": "bd69669c",
   "metadata": {},
   "outputs": [
    {
     "data": {
      "text/plain": [
       "([[1, 2, 3], 1, 2, [4, 5, 6]], [[0, 99, 0], 5, 2, [4, 5, 6]])"
      ]
     },
     "execution_count": 87,
     "metadata": {},
     "output_type": "execute_result"
    }
   ],
   "source": [
    "c,d"
   ]
  },
  {
   "cell_type": "code",
   "execution_count": 88,
   "id": "4e9689ca",
   "metadata": {},
   "outputs": [],
   "source": [
    "e = [[1,2,3,4],[9,8,7]]\n",
    "f = e.copy()"
   ]
  },
  {
   "cell_type": "code",
   "execution_count": 89,
   "id": "67b1f304",
   "metadata": {},
   "outputs": [
    {
     "data": {
      "text/plain": [
       "9"
      ]
     },
     "execution_count": 89,
     "metadata": {},
     "output_type": "execute_result"
    }
   ],
   "source": [
    "e[1][0]"
   ]
  },
  {
   "cell_type": "code",
   "execution_count": 90,
   "id": "9a7b9a69",
   "metadata": {},
   "outputs": [],
   "source": [
    "e[1][0]=100"
   ]
  },
  {
   "cell_type": "code",
   "execution_count": 91,
   "id": "bf065d8e",
   "metadata": {},
   "outputs": [
    {
     "data": {
      "text/plain": [
       "([[1, 2, 3, 4], [100, 8, 7]], [[1, 2, 3, 4], [100, 8, 7]])"
      ]
     },
     "execution_count": 91,
     "metadata": {},
     "output_type": "execute_result"
    }
   ],
   "source": [
    "e,f"
   ]
  },
  {
   "cell_type": "code",
   "execution_count": 104,
   "id": "032b150b",
   "metadata": {},
   "outputs": [],
   "source": [
    "# deep copy\n",
    "import copy"
   ]
  },
  {
   "cell_type": "code",
   "execution_count": 105,
   "id": "41e5ef40",
   "metadata": {},
   "outputs": [],
   "source": [
    "e = [[1,2,3,4],[9,8,7]]\n",
    "f = copy.deepcopy(e)"
   ]
  },
  {
   "cell_type": "code",
   "execution_count": 106,
   "id": "4cfeb53b",
   "metadata": {},
   "outputs": [
    {
     "data": {
      "text/plain": [
       "9"
      ]
     },
     "execution_count": 106,
     "metadata": {},
     "output_type": "execute_result"
    }
   ],
   "source": [
    "e[1][0]"
   ]
  },
  {
   "cell_type": "code",
   "execution_count": 107,
   "id": "299e0b8c",
   "metadata": {},
   "outputs": [],
   "source": [
    "e[1][0]=100"
   ]
  },
  {
   "cell_type": "code",
   "execution_count": 108,
   "id": "a17f9a30",
   "metadata": {},
   "outputs": [
    {
     "data": {
      "text/plain": [
       "([[1, 2, 3, 4], [100, 8, 7]], [[1, 2, 3, 4], [9, 8, 7]])"
      ]
     },
     "execution_count": 108,
     "metadata": {},
     "output_type": "execute_result"
    }
   ],
   "source": [
    "e,f"
   ]
  },
  {
   "cell_type": "code",
   "execution_count": null,
   "id": "4c2c9ce9",
   "metadata": {},
   "outputs": [],
   "source": []
  }
 ],
 "metadata": {
  "kernelspec": {
   "display_name": "Python 3 (ipykernel)",
   "language": "python",
   "name": "python3"
  },
  "language_info": {
   "codemirror_mode": {
    "name": "ipython",
    "version": 3
   },
   "file_extension": ".py",
   "mimetype": "text/x-python",
   "name": "python",
   "nbconvert_exporter": "python",
   "pygments_lexer": "ipython3",
   "version": "3.9.12"
  }
 },
 "nbformat": 4,
 "nbformat_minor": 5
}
